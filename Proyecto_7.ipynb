{
  "nbformat": 4,
  "nbformat_minor": 0,
  "metadata": {
    "colab": {
      "provenance": []
    },
    "kernelspec": {
      "name": "python3",
      "display_name": "Python 3"
    },
    "language_info": {
      "name": "python"
    }
  },
  "cells": [
    {
      "cell_type": "markdown",
      "source": [
        "####7 - Los números primos tienen diversas aplicaciones en Ciencia de Datos, como en criptografía y seguridad. Un número primo es aquel que es divisible solo por sí mismo y por 1. Por lo tanto, crea un programa que solicite un número entero y determine si es un número primo o no."
      ],
      "metadata": {
        "id": "Rr1NVJFX8-mp"
      }
    },
    {
      "cell_type": "markdown",
      "source": [],
      "metadata": {
        "id": "EX__tSvdUNPs"
      }
    },
    {
      "cell_type": "markdown",
      "source": [
        "* Importar módulo matemático\n",
        "\n",
        "* Validación de entrada con manejo de errores con el \"while True\"\n",
        "\n",
        "* Función para determinar si es primo con el \"def\".\n",
        "\n",
        "* Lógica para mostar el resulatdo (parte faltante) con el \"if es_primo(numero)\n",
        "\n",
        "* Determinar si es primo con el \"if es_primo(numero)"
      ],
      "metadata": {
        "id": "g6YdKcgoUQia"
      }
    },
    {
      "cell_type": "code",
      "source": [
        "\n",
        "import math\n",
        "\n",
        "while True:\n",
        "    entrada = input(\"Ingrese un número entero: \")\n",
        "    try:\n",
        "        numero = int(entrada)\n",
        "        break\n",
        "    except ValueError:\n",
        "        print(\"Entrada inválida. Ingrese un número entero válido.\")\n",
        "\n",
        "\n",
        "def es_primo(n):\n",
        "    if n <2:\n",
        "        return False\n",
        "    for i in range(2, int(math.sqrt(n)) + 1):\n",
        "        if n % i == 0:\n",
        "            return False\n",
        "    return True\n",
        "\n",
        "\n",
        "if es_primo(numero):\n",
        "    print(f\"El número {numero} es primo.\")\n",
        "else:\n",
        "    print(f\"El número {numero} no es primo\")\n",
        "\n",
        "\n",
        "if es_primo(numero):\n",
        "    print(f\"{numero} es un número primo.\")\n",
        "else:\n",
        "    print(f\"{numero} no es un número primo.\")"
      ],
      "metadata": {
        "colab": {
          "base_uri": "https://localhost:8080/"
        },
        "id": "6QqDidOyBhCm",
        "outputId": "dd88b67d-2127-41c7-8733-e7a7af6b31e7"
      },
      "execution_count": 5,
      "outputs": [
        {
          "output_type": "stream",
          "name": "stdout",
          "text": [
            "Ingrese un número entero: 7\n",
            "El número 7 es primo.\n",
            "7 es un número primo.\n"
          ]
        }
      ]
    }
  ]
}